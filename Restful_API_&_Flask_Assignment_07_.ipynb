{
  "cells": [
    {
      "cell_type": "markdown",
      "metadata": {
        "id": "OsWNS-gS5avW"
      },
      "source": [
        "#   **Restful API & Flask**"
      ]
    },
    {
      "cell_type": "markdown",
      "metadata": {
        "id": "_W964M6o5lIb"
      },
      "source": [
        "### Q1. What is a RESTful API?\n",
        "\n",
        ">In Python, a RESTful API (Representational State Transfer API) is a type of API that uses HTTP requests to access and manipulate data, following REST architectural principles for building web services, promoting scalability, flexibility, and interoperability."
      ]
    },
    {
      "cell_type": "markdown",
      "metadata": {
        "id": "lB8eVx8-6FWJ"
      },
      "source": [
        "###Q2.  Explain the concept of API specification?\n",
        "\n",
        ">An API specification is a formal document or standard that defines how an API (Application Programming Interface) should function. It serves as a blueprint that outlines the API’s structure, rules, and expected behavior, ensuring consistency and interoperability between different systems.\n",
        "\n",
        "> Key Components of an API Specification\n",
        "Endpoints (Routes) – Defines the available API URLs and how clients can access resources.\n",
        "\n",
        ">Methods (HTTP Verbs) – Specifies allowed actions such as GET, POST, PUT, DELETE, etc.\n",
        "\n",
        ">Request Parameters – Details query parameters, headers, and request body structures.\n",
        "\n",
        ">Response Format – Defines expected response data, including status codes and response body structure.\n",
        "\n",
        ">Authentication & Authorization – Specifies security requirements like API keys, OAuth, or JWT.\n",
        "\n",
        ">Error Handling – Lists potential error messages and corresponding HTTP status codes."
      ]
    },
    {
      "cell_type": "markdown",
      "metadata": {
        "id": "JWm7q7r36tNP"
      },
      "source": [
        "###Q3. What is Flask, and why is it popular for building APIs?\n",
        "\n",
        ">FLASK -- Flask is a lightweight and flexible Python web framework used for building web applications and APIs. It follows a micro-framework approach, meaning it provides the essential tools to build web services without unnecessary complexity. It is built on Werkzeug (a WSGI utility library) and Jinja2 (a templating engine).\n",
        "\n",
        "\n",
        "\n",
        ">1. Lightweight & Minimalistic ->\n",
        "\n",
        "Flask doesn’t come with built-in ORM, authentication, or other heavy dependencies, allowing developers to customize it as needed.\n",
        "\n",
        ">2. Easy to Learn & Use ->\n",
        "\n",
        "Flask has a simple and intuitive syntax, making it beginner-friendly.\n",
        "\n",
        ">3.Flexible & Extensible ->\n",
        "\n",
        "Developers can add third-party libraries (like Flask-RESTful, Flask-SQLAlchemy) to extend functionality.\n",
        "\n",
        ">4.Quick Development ->\n",
        "\n",
        "Ideal for rapid prototyping and small to medium-scale applications.\n",
        "\n",
        ">5.Built-in Development Server & Debugger ->\n",
        "\n",
        "Comes with an interactive debugger and a built-in server for easy testing.\n",
        "\n",
        ">6.RESTful API Support ->\n",
        "\n",
        "Flask makes it easy to build REST APIs with minimal code.\n",
        "\n",
        ">7.Asynchronous Support ->\n",
        "\n",
        "Works well with async tasks using extensions like Celery or integrating with FastAPI.\n",
        "\n",
        ">8.Large Community & Ecosystem ->\n",
        "\n",
        "Many extensions and community support make development easier."
      ]
    },
    {
      "cell_type": "markdown",
      "metadata": {
        "id": "NzPwdb8M70Ho"
      },
      "source": [
        "###Q4.  What is routing in Flask?\n",
        "\n",
        ">Routes in Flask are a fundamental concept in the web framework. routes can be described as the designated paths or endpoints in a web application that correspond to specific functions. These functions are responsible for processing requests and returning the appropriate responses."
      ]
    },
    {
      "cell_type": "markdown",
      "metadata": {
        "id": "J3jndMt68Opb"
      },
      "source": [
        "###Q5. How do you create a simple Flask application?\n",
        "\n",
        ">->Install Flask → pip install flask\n",
        "\n",
        "> -> Create app.py → Initialize Flask app\n",
        "\n",
        ">-> Define Routes → Use @app.route()\n",
        "\n",
        "> ->Run the App → python app.py\n",
        "\n",
        "> -> Access in Browser → http://127.0.0.1:5000/\n"
      ]
    },
    {
      "cell_type": "markdown",
      "metadata": {
        "id": "5EzP3iLriAFk"
      },
      "source": [
        "###Q6. What are HTTP methods used in RESTful APIs?\n",
        "\n",
        ">HTTP methods are used to indicate the action an API client would like to perform on a given resource. Each HTTP method maps to a specific operation, such as creating, reading, updating, or deleting a resource, and an HTTP method must be included with every request to a REST API."
      ]
    },
    {
      "cell_type": "markdown",
      "metadata": {
        "id": "J5olDtn6ilx6"
      },
      "source": [
        "###Q7. What is the purpose of the @app.route() decorator in Flask?\n",
        "\n",
        ">The @app.route() decorator in Flask is used to define URL routes, mapping them to specific functions that handle requests.\n",
        "\n",
        ">1. Defines URL Endpoints → Specifies the path for a webpage or API.\n",
        "\n",
        ">2. Handles Requests → Maps a function to a URL, executing it when the URL is accessed.\n",
        "\n",
        " >3. Supports Multiple Routes → Allows different routes to point to different functions."
      ]
    },
    {
      "cell_type": "markdown",
      "metadata": {
        "id": "svFficftjREw"
      },
      "source": [
        "###Q8. What is the difference between GET and POST HTTP methods?\n",
        "\n",
        ">GET → For retrieving data, parameters in URL, less secure\n",
        "\n",
        ">POST → For sending data, parameters in body, more secure"
      ]
    },
    {
      "cell_type": "markdown",
      "metadata": {
        "id": "agi-wiQ7j9W3"
      },
      "source": [
        "###Q9. How do you handle errors in Flask APIs?\n",
        "\n",
        ">Error handling in Flask APIs can be implemented through several methods:\n",
        "\n",
        "1. HTTP Exceptions:\n",
        "Flask allows raising HTTP exceptions, such as BadRequest, NotFound, or InternalServerError, which automatically return a corresponding error response to the client.\n",
        "2. Custom Error Handlers:\n",
        "Using the @app.errorhandler decorator, custom functions can be defined to handle specific exceptions or HTTP status codes, allowing for tailored error responses.\n",
        "3. Flask-RESTful Error Handling:\n",
        "When using Flask-RESTful, errors can be handled by raising exceptions or using the abort function, which provides a consistent way to return error responses.\n",
        "4. Blueprint-Specific Error Handling:\n",
        "Error handlers can be registered within Blueprints, enabling modular error handling for different parts of the application.\n",
        "5. Logging:\n",
        "Integrating logging helps track errors and debug issues by recording detailed information about exceptions and their context.\n",
        "6. Return error message:\n",
        "If an error occurs inside a function, it should return a dictionary containing error messages to where the function was called, and check if it was actually an error, if yes then return the error message."
      ]
    },
    {
      "cell_type": "markdown",
      "metadata": {
        "id": "Bq81FejHkzZt"
      },
      "source": [
        "###Q10.  How do you connect Flask to a SQL database?\n",
        "\n",
        " 1. Install Flask-SQLAlchemy → pip install flask-sqlalchemy\n",
        " 2. Configure Database → app.config['SQLALCHEMY_DATABASE_URI']\n",
        " 3. Define Models → Create classes using db.Model\n",
        " 4. Create Tables → Run db.create_all()\n",
        " 5. Insert & Query Data → Use db.session & User.query"
      ]
    },
    {
      "cell_type": "markdown",
      "metadata": {
        "id": "m4wIoDiYyLVq"
      },
      "source": [
        "###Q11. What is the role of Flask-SQLAlchemy?\n",
        "\n",
        ">Role of Flask-SQLAlchemy\n",
        "Flask-SQLAlchemy is an extension for Flask that simplifies database interactions using SQLAlchemy, a powerful Object Relational Mapper (ORM). It allows developers to work with databases using Python classes instead of writing raw SQL queries.\n",
        "\n",
        "1. Reduces complexity → No need to write raw SQL queries.\n",
        "2. Supports multiple databases → Works with SQLite, MySQL, PostgreSQL.\n",
        "3. Easier data management → Uses Python classes to handle tables.\n",
        "4. Secure & scalable → Prevents SQL injection & supports migrations."
      ]
    },
    {
      "cell_type": "markdown",
      "metadata": {
        "id": "09k14tIIymN9"
      },
      "source": [
        "###Q12. What are Flask blueprints, and how are they useful?\n",
        "\n",
        ">Flask Blueprints are a way to organize and structure large Flask applications by splitting routes, views, and logic into separate modules. They allow for better code reusability and maintainability.\n",
        "\n",
        ">Instead of defining all routes in a single app.py file, Blueprints let you group related functionality into separate Python modules.\n",
        "1. Create a Blueprint\n",
        "2. Register the Blueprint in app.py\n",
        "3. Access the Blueprint Route\n",
        "\n"
      ]
    },
    {
      "cell_type": "markdown",
      "metadata": {
        "id": "fWJBfNWezSLL"
      },
      "source": [
        "###Q13.  What is the purpose of Flask's request object?\n",
        "\n",
        ">In Flask, the request object allows you to access and process the incoming HTTP request data, including form data, query parameters, headers, and files, enabling your application to interact with the client."
      ]
    },
    {
      "cell_type": "markdown",
      "metadata": {
        "id": "-MiB4O5AzvSz"
      },
      "source": [
        "###Q14. How do you create a RESTful API endpoint using Flask?\n",
        "\n",
        "1. Install Flask → pip install flask\n",
        "2.  Create app.py → Define API routes\n",
        "3.  Use HTTP Methods (GET, POST, PUT, DELETE)\n",
        "4.  Run the Flask App → python app.py\n",
        "5. Test API in Postman or Browser"
      ]
    },
    {
      "cell_type": "markdown",
      "metadata": {
        "id": "bXUvXNx50KWx"
      },
      "source": [
        "###Q15. What is the purpose of Flask's jsonify() function?\n",
        "\n",
        ">Flask's jsonify() function simplifies creating JSON responses by automatically serializing Python objects (like dictionaries) into JSON format and setting the appropriate Content-Type header to application/json.\n",
        "\n",
        ">Here's a more detailed explanation:\n",
        "\n",
        ">Purpose:\n",
        "\n",
        ">The primary function of jsonify() is to take a Python object (usually a dictionary) and return a Flask Response object that contains the object serialized as JSON.\n",
        "1. **Serialization**:\n",
        ">It uses the json.dumps() function under the hood to convert the Python object into a JSON string.\n",
        "2. **Content-Type Header**:\n",
        ">Importantly, jsonify() automatically sets the Content-Type header of the response to application/json, which is crucial for informing the client that the response is in JSON format.\n",
        "3. **Simplified JSON Responses**:\n",
        ">By handling the serialization and header setting, jsonify() streamlines the process of creating JSON responses in Flask, making it easier to return data in a format suitable for web APIs and other applications."
      ]
    },
    {
      "cell_type": "markdown",
      "metadata": {
        "id": "qeD8LJr9q3rA"
      },
      "source": [
        "###Q16.  Explain Flask’s url_for() function?\n",
        "\n",
        ">The url_for() function in Flask generates a URL to a specific endpoint (view function) based on its name and any arguments provided. It abstracts away the need to hardcode URLs, making applications more maintainable and robust.\n",
        "The basic syntax is url_for('endpoint_name', **values).\n",
        "endpoint_name is the name of the view function (or endpoint name if explicitly defined).\n",
        "**values are keyword arguments representing any dynamic parts of the URL."
      ]
    },
    {
      "cell_type": "markdown",
      "metadata": {
        "id": "bAu0dvyPrSm7"
      },
      "source": [
        "###Q17. How does Flask handle static files (CSS, JavaScript, etc.)?\n",
        "\n",
        "1. Flask serves static files from the static/ directory.\n",
        "2. Use url_for('static', filename='path/to/file') in HTML.\n",
        "3. Static files can be accessed directly via /static/ filename.\n",
        "4. For production, use a dedicated web server for efficiency."
      ]
    },
    {
      "cell_type": "markdown",
      "metadata": {
        "id": "_DV-W7YIrzRr"
      },
      "source": [
        "###Q18. What is an API specification, and how does it help in building a Flask API?\n",
        "\n",
        ">An API specification is a formal document that outlines the structure, functionality, and expected behavior of an API, essentially acting as a blueprint for how developers can interact with and use the API.\n",
        "1. Feature\tBenefit -> in Flask API Development\n",
        "2. Clear Documentation\tEnsures developers understand the API structure.\n",
        "3. Standardization ->\tKeeps API design consistent & scalable.\n",
        "4. Error Handling ->\tDefines how errors (404, 500) should be returned.\n",
        "5. API Testing & Validation ->\tAllows tools like Swagger to auto-generate tests.\n",
        "6. Easy Integration ->\tHelps frontend & third-party developers use the API correctly."
      ]
    },
    {
      "cell_type": "markdown",
      "metadata": {
        "id": "xIONgDPMs2MC"
      },
      "source": [
        "###Q19. What are HTTP status codes, and why are they important in a Flask API?\n",
        "\n",
        ">HTTP status codes are standardized 3-digit numbers that indicate the result of an API request. They help the client (browser, frontend app, or another API) understand if the request was successful, failed, or needs additional actions.\n",
        "\n",
        "1. Helps Clients Handle Responses Correctly (e.g., retry on 503, show error on 400)\n",
        "2.  Improves Debugging & Logging (e.g., 500 errors indicate server-side issues)\n",
        "3. Enhances API Reliability & User Experience"
      ]
    },
    {
      "cell_type": "markdown",
      "metadata": {
        "id": "bZHs90T0tQnM"
      },
      "source": [
        "###Q20.  How do you handle POST requests in Flask?\n",
        "\n",
        "1. Validate input data before processing.\n",
        "2. Return appropriate HTTP status codes (201 Created, 400 Bad Request, 500 Internal Server Error)\n",
        "3. Use request.get_json() for JSON data\n",
        "4. Secure API endpoints (e.g., authentication, rate limiting)"
      ]
    },
    {
      "cell_type": "markdown",
      "metadata": {
        "id": "oVrCD0Yyts65"
      },
      "source": [
        "###Q21.  How would you secure a Flask API?\n",
        "\n",
        "1. Use JWT or OAuth for Authentication\n",
        "2. Force HTTPS for Secure Communication\n",
        "3. Sanitize Inputs & Prevent SQL Injection\n",
        "4. Enable Rate Limiting to Prevent Abuse\n",
        "5. Set Secure API Headers with Flask-Talisman\n",
        "6. Monitor API Logs for Suspicious Activity\n",
        "7. Enable CSRF Protection for Form-Based Requests"
      ]
    },
    {
      "cell_type": "markdown",
      "metadata": {
        "id": "JS4q6RiquQ4h"
      },
      "source": [
        "###Q22. What is the significance of the Flask-RESTful extension?\n",
        "\n",
        ">The Flask-RESTful extension significantly simplifies and streamlines the process of building RESTful APIs in Python using Flask, offering a structured approach with features like resource classes and automatic mapping of HTTP methods, making development faster and more maintainable.\n",
        "\n",
        ">Here's a more detailed explanation of its significance:\n",
        "\n",
        "1. Simplified REST API Development:\n",
        ">Flask-RESTful is designed to make building RESTful APIs easier and more efficient, encouraging best practices and a resource-oriented approach.\n",
        "2. Resource Class:\n",
        ">It introduces a Resource class that allows developers to define HTTP methods (GET, POST, PUT, DELETE, etc.) as class methods, which simplifies the organization and management of API endpoints.\n",
        "3.Automatic Mapping:\n",
        ">Flask-RESTful automatically maps HTTP methods to the corresponding class methods, reducing boilerplate code and making the development process faster.\n",
        "4.Data Marshalling:\n",
        ">It provides features for data marshalling, allowing developers to control the structure and format of data returned in API responses.\n",
        "5. Argument Parsing:\n",
        ">It has built-in support for request data validation and parsing, similar to the argparse library, making it easier to handle incoming data.\n",
        "6. Integration with Flask:\n",
        ">Flask-RESTful is built as an extension for Flask, meaning it leverages the features and capabilities of Flask while adding specific functionality for REST API development.\n",
        "7. Object-Oriented Approach:\n",
        ">It encourages a clean object-oriented code that is highly reusable.\n",
        "Scalable and Maintainable APIs:\n",
        "It helps developers build APIs that are both scalable and maintainable.\n"
      ]
    },
    {
      "cell_type": "markdown",
      "metadata": {
        "id": "SK_4NI_8vLOj"
      },
      "source": [
        "###Q23. What is the role of Flask’s session object?\n",
        "\n",
        ">In Flask, the session object allows you to store user-specific data across multiple requests, essentially acting as a way to maintain state between interactions with a web application. It's implemented using cryptographically signed cookies, ensuring data persistence and security.\n",
        "1. Session Data is Encrypted: Prevents tampering using Flask’s SECRET_KEY.\n",
        "2. Persists Across Requests: Unlike request, session data remains available for multiple requests.\n",
        "3. Supports User Authentication: Used in login systems to track logged-in users.\n",
        "4. Client-Side Storage: Stores session data in cookies rather than the server."
      ]
    },
    {
      "cell_type": "markdown",
      "metadata": {
        "id": "qQrcsh8ywNMJ"
      },
      "source": [
        " # **Practical Questions**\n"
      ]
    },
    {
      "cell_type": "markdown",
      "metadata": {
        "id": "roxsdjb2wq_f"
      },
      "source": [
        "###Q1. How do you create a basic Flask application?\n"
      ]
    },
    {
      "cell_type": "code",
      "execution_count": null,
      "metadata": {
        "colab": {
          "background_save": true,
          "base_uri": "https://localhost:8080/"
        },
        "id": "mJfvlLPSxGwB",
        "outputId": "8de0710e-5c24-4680-8a31-7e9bc38dba35"
      },
      "outputs": [
        {
          "name": "stdout",
          "output_type": "stream",
          "text": [
            " * Serving Flask app '__main__'\n",
            " * Debug mode: on\n"
          ]
        },
        {
          "name": "stderr",
          "output_type": "stream",
          "text": [
            "INFO:werkzeug:\u001b[31m\u001b[1mWARNING: This is a development server. Do not use it in a production deployment. Use a production WSGI server instead.\u001b[0m\n",
            " * Running on http://127.0.0.1:5000\n",
            "INFO:werkzeug:\u001b[33mPress CTRL+C to quit\u001b[0m\n",
            "INFO:werkzeug: * Restarting with stat\n"
          ]
        }
      ],
      "source": [
        "\n",
        "from flask import Flask\n",
        "\n",
        "app = Flask(__name__)  # Initialize the Flask application\n",
        "\n",
        "@app.route('/')  # Define the home route\n",
        "def home():\n",
        "    return \"Hello, Flask!\"  # Response displayed in the browser\n",
        "\n",
        "if __name__ == '__main__':\n",
        "    app.run(debug=True)  # Run the app in debug mode\n"
      ]
    },
    {
      "cell_type": "markdown",
      "metadata": {
        "id": "WRPgSC2Cxidi"
      },
      "source": [
        "###Q2.  How do you serve static files like images or CSS in Flask?\n",
        "\n"
      ]
    },
    {
      "cell_type": "code",
      "execution_count": null,
      "metadata": {
        "id": "V1MDNRNUyhan",
        "colab": {
          "base_uri": "https://localhost:8080/"
        },
        "outputId": "6529197e-08d7-44d2-a17d-848b7f5fdc0e"
      },
      "outputs": [
        {
          "output_type": "stream",
          "name": "stdout",
          "text": [
            " * Serving Flask app '__main__'\n",
            " * Debug mode: on\n"
          ]
        },
        {
          "output_type": "stream",
          "name": "stderr",
          "text": [
            "INFO:werkzeug:\u001b[31m\u001b[1mWARNING: This is a development server. Do not use it in a production deployment. Use a production WSGI server instead.\u001b[0m\n",
            " * Running on http://127.0.0.1:5000\n",
            "INFO:werkzeug:\u001b[33mPress CTRL+C to quit\u001b[0m\n",
            "INFO:werkzeug: * Restarting with stat\n"
          ]
        }
      ],
      "source": [
        " from flask import Flask, render_template\n",
        "\n",
        "app = Flask(__name__)\n",
        "\n",
        "@app.route('/')\n",
        "def home():\n",
        "    return render_template('index.html')  # Renders HTML page\n",
        "\n",
        "if __name__ == '__main__':\n",
        "    app.run(debug=True)\n"
      ]
    },
    {
      "cell_type": "markdown",
      "metadata": {
        "id": "1_Z6l6R2ymA5"
      },
      "source": [
        "###Q3.  How do you define different routes with different HTTP methods in Flask?"
      ]
    },
    {
      "cell_type": "code",
      "execution_count": null,
      "metadata": {
        "id": "wH8zP1pdyszg"
      },
      "outputs": [],
      "source": [
        "@app.route('/user', methods=['GET', 'POST', 'PUT', 'DELETE'])\n",
        "def user():\n",
        "    if request.method == 'GET':\n",
        "        return jsonify({\"message\": \"GET request received\"}), 200\n",
        "    elif request.method == 'POST':\n",
        "        return jsonify({\"message\": \"POST request received\"}), 201\n",
        "    elif request.method == 'PUT':\n",
        "        return jsonify({\"message\": \"PUT request received\"}), 200\n",
        "    elif request.method == 'DELETE':\n",
        "        return jsonify({\"message\": \"DELETE request received\"}), 200\n"
      ]
    },
    {
      "cell_type": "markdown",
      "metadata": {
        "id": "vgk5JXo7y7Y5"
      },
      "source": [
        "###Q4. How do you render HTML templates in Flask?\n",
        "\n"
      ]
    },
    {
      "cell_type": "code",
      "execution_count": null,
      "metadata": {
        "id": "_sDqBKlnzTaW"
      },
      "outputs": [],
      "source": [
        "from flask import Flask, render_template\n",
        "\n",
        "app = Flask(__name__)\n",
        "\n",
        "@app.route('/')\n",
        "def home():\n",
        "    return render_template('index.html')  # Renders the index.html page\n",
        "\n",
        "if __name__ == '__main__':\n",
        "    app.run(debug=True)\n"
      ]
    },
    {
      "cell_type": "markdown",
      "metadata": {
        "id": "mZODEJErzVRt"
      },
      "source": [
        "###Q5.How can you generate URLs for routes in Flask using url_for?\n",
        "\n",
        ">"
      ]
    },
    {
      "cell_type": "code",
      "execution_count": null,
      "metadata": {
        "id": "4bW9TRz1z17K"
      },
      "outputs": [],
      "source": [
        "from flask import Flask, url_for\n",
        "\n",
        "app = Flask(__name__)\n",
        "\n",
        "@app.route('/')\n",
        "def home():\n",
        "    return \"Welcome to Flask!\"\n",
        "\n",
        "@app.route('/about')\n",
        "def about():\n",
        "    return \"This is the About Page.\"\n",
        "\n",
        "if __name__ == '__main__':\n",
        "    with app.test_request_context():\n",
        "        print(url_for('home'))  # Outputs: /\n",
        "        print(url_for('about')) # Outputs: /about\n",
        "\n",
        "    app.run(debug=True)\n"
      ]
    },
    {
      "cell_type": "markdown",
      "metadata": {
        "id": "IfHJ1hcAz4Fo"
      },
      "source": [
        "###Q6.  How do you handle forms in Flask?"
      ]
    },
    {
      "cell_type": "code",
      "execution_count": null,
      "metadata": {
        "id": "leB7pTS6z3mx"
      },
      "outputs": [],
      "source": [
        "from flask import Flask, render_template, request\n",
        "\n",
        "app = Flask(__name__)\n",
        "\n",
        "@app.route('/form')\n",
        "def form():\n",
        "    return render_template('form.html')\n",
        "\n",
        "@app.route('/login', methods=['POST'])\n",
        "def login():\n",
        "    username = request.form['username']\n",
        "    password = request.form['password']\n",
        "    return f\"Welcome, {username}!\"\n",
        "\n",
        "if __name__ == '__main__':\n",
        "    app.run(debug=True)\n"
      ]
    },
    {
      "cell_type": "markdown",
      "metadata": {
        "id": "-l27A6Wd0MFQ"
      },
      "source": [
        "###Q7. How can you validate form data in Flask?"
      ]
    },
    {
      "cell_type": "code",
      "execution_count": null,
      "metadata": {
        "id": "CIfYk75O0T8Z"
      },
      "outputs": [],
      "source": [
        "from flask_wtf import FlaskForm\n",
        "from wtforms import StringField, PasswordField, SubmitField\n",
        "from wtforms.validators import DataRequired, Length\n",
        "\n",
        "class LoginForm(FlaskForm):\n",
        "    username = StringField('Username', validators=[DataRequired()])\n",
        "    password = PasswordField('Password', validators=[DataRequired(), Length(min=6)])\n",
        "    submit = SubmitField('Login')\n"
      ]
    },
    {
      "cell_type": "markdown",
      "metadata": {
        "id": "dZaQfQeY0blp"
      },
      "source": [
        "###Q8.  How do you manage sessions in Flask?\n",
        "\n"
      ]
    },
    {
      "cell_type": "code",
      "execution_count": null,
      "metadata": {
        "id": "R1k9W9d60hk2"
      },
      "outputs": [],
      "source": [
        "from flask import Flask, session, redirect, url_for, request\n",
        "\n",
        "app = Flask(__name__)\n",
        "app.config['SECRET_KEY'] = 'mysecretkey'  # Required for security\n",
        "\n",
        "@app.route('/')\n",
        "def home():\n",
        "    username = session.get('username', 'Guest')\n",
        "    return f\"Welcome, {username}!\"\n",
        "\n",
        "@app.route('/login', methods=['POST'])\n",
        "def login():\n",
        "    session['username'] = request.form['username']\n",
        "    return redirect(url_for('home'))\n",
        "\n",
        "@app.route('/logout')\n",
        "def logout():\n",
        "    session.pop('username', None)  # Remove session data\n",
        "    return redirect(url_for('home'))\n",
        "\n",
        "if __name__ == '__main__':\n",
        "    app.run(debug=True)\n"
      ]
    },
    {
      "cell_type": "markdown",
      "metadata": {
        "id": "KEy1jKWu0r7k"
      },
      "source": [
        "###Q9.  How do you redirect to a different route in Flask?"
      ]
    },
    {
      "cell_type": "code",
      "execution_count": null,
      "metadata": {
        "id": "lRFXdb5I004G"
      },
      "outputs": [],
      "source": [
        "from flask import Flask, redirect, url_for\n",
        "\n",
        "app = Flask(__name__)\n",
        "\n",
        "@app.route('/')\n",
        "def home():\n",
        "    return \"Welcome to the Home Page!\"\n",
        "\n",
        "@app.route('/login')\n",
        "def login():\n",
        "    return redirect(url_for('home'))  # Redirect to the home route\n",
        "\n",
        "if __name__ == '__main__':\n",
        "    app.run(debug=True)\n"
      ]
    },
    {
      "cell_type": "markdown",
      "metadata": {
        "id": "H3BloJpY1AX3"
      },
      "source": [
        "###Q10. How do you handle errors in Flask (e.g., 404)?"
      ]
    },
    {
      "cell_type": "code",
      "execution_count": null,
      "metadata": {
        "id": "iJAM4OIP1AIh"
      },
      "outputs": [],
      "source": [
        "from flask import Flask, render_template\n",
        "\n",
        "app = Flask(__name__)\n",
        "\n",
        "@app.errorhandler(404)\n",
        "def page_not_found(error):\n"
      ]
    },
    {
      "cell_type": "markdown",
      "metadata": {
        "id": "ALzhqrWo1NPM"
      },
      "source": [
        "###Q11. How do you structure a Flask app using Blueprints?\n",
        "\n"
      ]
    },
    {
      "cell_type": "code",
      "execution_count": null,
      "metadata": {
        "id": "HkU0sk1s1S0m"
      },
      "outputs": [],
      "source": [
        "from flask import Blueprint\n",
        "\n",
        "auth_bp = Blueprint('auth', __name__)  # Create a Blueprint\n",
        "\n",
        "@auth_bp.route('/login')\n",
        "def login():\n",
        "    return \"This is the login page.\"\n",
        "\n",
        "@auth_bp.route('/register')\n",
        "def register():\n",
        "    return \"This is the register page.\"\n"
      ]
    },
    {
      "cell_type": "markdown",
      "metadata": {
        "id": "7hmQyPaP1ncO"
      },
      "source": [
        "###Q12.  How do you define a custom Jinja filter in Flask?"
      ]
    },
    {
      "cell_type": "code",
      "execution_count": null,
      "metadata": {
        "id": "KBgJ0gpq1rSm"
      },
      "outputs": [],
      "source": [
        "from flask import Flask, render_template\n",
        "\n",
        "app = Flask(__name__)\n",
        "\n",
        "# Define a custom filter\n",
        "def reverse_string(s):\n",
        "    return s[::-1]\n",
        "\n",
        "# Register the filter with Flask\n",
        "app.jinja_env.filters['reverse'] = reverse_string\n",
        "\n",
        "@app.route('/')\n",
        "def home():\n",
        "    return render_template('index.html', name=\"Flask\")\n",
        "\n",
        "if __name__ == '__main__':\n",
        "    app.run(debug=True)\n"
      ]
    },
    {
      "cell_type": "markdown",
      "metadata": {
        "id": "GtZKcuZn1wva"
      },
      "source": [
        "###Q13.  How can you redirect with query parameters in Flask?"
      ]
    },
    {
      "cell_type": "code",
      "execution_count": null,
      "metadata": {
        "id": "sVLZ1eYI12JB"
      },
      "outputs": [],
      "source": [
        "from flask import Flask, redirect, url_for\n",
        "\n",
        "app = Flask(__name__)\n",
        "\n",
        "@app.route('/login')\n",
        "def login():\n",
        "    return redirect(url_for('dashboard', username='JohnDoe'))  # Redirect with query params\n",
        "\n",
        "@app.route('/dashboard')\n",
        "def dashboard():\n",
        "    return \"Welcome to the dashboard!\"\n",
        "\n",
        "if __name__ == '__main__':\n",
        "    app.run(debug=True)\n"
      ]
    },
    {
      "cell_type": "markdown",
      "metadata": {
        "id": "NI0Nf8Ei18fh"
      },
      "source": [
        "###Q14. How do you return JSON responses in Flask?"
      ]
    },
    {
      "cell_type": "code",
      "execution_count": null,
      "metadata": {
        "id": "qJ-UhDz02Bxg"
      },
      "outputs": [],
      "source": [
        "@app.route('/api/create', methods=['POST'])\n",
        "def create():\n",
        "    response = {\"message\": \"Resource created\", \"status\": \"success\"}\n",
        "    return jsonify(response), 201\n"
      ]
    },
    {
      "cell_type": "markdown",
      "metadata": {
        "id": "3LWqlCs32JFG"
      },
      "source": [
        "###Q15. How do you capture URL parameters in Flask?"
      ]
    },
    {
      "cell_type": "code",
      "execution_count": null,
      "metadata": {
        "id": "2gT1P9nB2OMU"
      },
      "outputs": [],
      "source": [
        "from flask import Flask\n",
        "\n",
        "app = Flask(__name__)\n",
        "\n",
        "@app.route('/user/<username>')\n",
        "def show_user(username):\n",
        "    return f\"Hello, {username}!\"\n",
        "\n",
        "if __name__ == '__main__':\n",
        "    app.run(debug=True)\n"
      ]
    }
  ],
  "metadata": {
    "colab": {
      "provenance": []
    },
    "kernelspec": {
      "display_name": "Python 3",
      "name": "python3"
    },
    "language_info": {
      "name": "python"
    }
  },
  "nbformat": 4,
  "nbformat_minor": 0
}